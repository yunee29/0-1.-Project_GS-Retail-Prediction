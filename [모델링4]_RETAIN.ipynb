{
 "cells": [
  {
   "cell_type": "code",
   "execution_count": null,
   "metadata": {
    "colab": {
     "base_uri": "https://localhost:8080/",
     "height": 34
    },
    "id": "kxpbW3FAUY_B",
    "outputId": "5c1d421b-71df-43a6-ee4d-ec9c4c8ecb3f"
   },
   "outputs": [
    {
     "name": "stdout",
     "output_type": "stream",
     "text": [
      "Mounted at /content/gdrive\n"
     ]
    }
   ],
   "source": [
    "from google.colab import drive\n",
    "drive.mount('/content/gdrive')"
   ]
  },
  {
   "cell_type": "code",
   "execution_count": null,
   "metadata": {
    "id": "XrXXCdW1Zd5g"
   },
   "outputs": [],
   "source": [
    "import os\n",
    "import argparse\n",
    "import numpy as np\n",
    "import pandas as pd\n",
    "import random as rn\n",
    "import tensorflow as tf\n",
    "import keras.layers as L\n",
    "from sklearn.preprocessing import MinMaxScaler\n",
    "from keras import backend as K\n",
    "from keras.models import load_model,Model\n",
    "from keras.callbacks import ModelCheckpoint, Callback, EarlyStopping\n",
    "from keras.preprocessing import sequence\n",
    "from keras.utils.data_utils import Sequence\n",
    "from keras.regularizers import l2\n",
    "\n",
    "import matplotlib.pyplot as plt\n",
    "import warnings\n",
    "%matplotlib inline"
   ]
  },
  {
   "cell_type": "code",
   "execution_count": null,
   "metadata": {
    "id": "pxJXpzIzf70M"
   },
   "outputs": [],
   "source": [
    "#재현성을 위한 seed 설정\n",
    "seed_num = 913\n",
    "np.random.seed(seed_num)\n",
    "rn.seed(seed_num)\n",
    "tf.random.set_seed(seed_num)"
   ]
  },
  {
   "cell_type": "markdown",
   "metadata": {
    "id": "RSX3_F6gSr9W"
   },
   "source": [
    "# **1. 데이터 생성**"
   ]
  },
  {
   "cell_type": "code",
   "execution_count": null,
   "metadata": {
    "id": "ppDMDY3aZd47"
   },
   "outputs": [],
   "source": [
    "final_data = pd.read_csv('./gdrive/My Drive/빅콘 대상팀/data/model_data.csv')"
   ]
  },
  {
   "cell_type": "code",
   "execution_count": null,
   "metadata": {
    "id": "vMgUUXYlUFnq"
   },
   "outputs": [],
   "source": [
    "gu = pd.read_excel('./gdrive/My Drive/빅콘 대상팀/data/지역데이터/구_동.xlsx')\n",
    "gs = pd.read_csv('./gdrive/My Drive/빅콘 대상팀/data/all_amt.csv',parse_dates=['STD_YMD'])\n",
    "gs = pd.concat([gs.iloc[:,[0,1]],gs.filter(like='GS')],axis=1)\n",
    "gs = pd.merge(gs,gu,on='HDONG_NM')\n",
    "gs['CITY'] = gs['HDONG_GU'].apply(lambda x: x[0:2])\n",
    "gs_seoul = gs.query('CITY == \"서울\" & STD_YMD > \"2020\"')\n",
    "\n",
    "gs_eat = gs_seoul.iloc[:,[0,1,3]].sort_values(['HDONG_NM','STD_YMD'])\n",
    "gs_snack = gs_seoul.iloc[:,[0,1,4]].sort_values(['HDONG_NM','STD_YMD'])\n",
    "gs_drink = gs_seoul.iloc[:,[0,1,5]].sort_values(['HDONG_NM','STD_YMD'])"
   ]
  },
  {
   "cell_type": "code",
   "execution_count": null,
   "metadata": {
    "id": "TusaUE-ggXXG"
   },
   "outputs": [],
   "source": [
    "# final data 여러가지 시도\n",
    "#final_data2= final_data.drop(['holiday','event'],axis=1) #binary 변수 빼기\n",
    "final_data3= final_data.drop(['COVID_CNT','covid_p1'],axis=1) \n",
    "final_data4 = final_data.drop(['COVID_CNT','covid_p1','sc_m1','cj_m1','covid_p1','최저기온','최고기온','일강수량'],axis=1) #최종사용데이터\n",
    "final_data5 = final_data.drop(['COVID_CNT','covid_p1','sc_m1','cj_m1','covid_p1','기온','최저기온','최고기온','일강수량','일교차','dust'],axis=1)\n",
    "final_weather = final_data.loc[:,['STD_YMD','HDONG_NM','기온','최저기온','최고기온','일강수량','일교차','dust']]"
   ]
  },
  {
   "cell_type": "markdown",
   "metadata": {
    "id": "kPKs7eTYSufZ"
   },
   "source": [
    "# **2. 함수 정의**"
   ]
  },
  {
   "cell_type": "code",
   "execution_count": null,
   "metadata": {
    "id": "ej2kwLYUq79c"
   },
   "outputs": [],
   "source": [
    "import numpy as np\n",
    "from sklearn.metrics import mean_squared_log_error, mean_squared_error\n",
    "\n",
    "def RMSLE_fun(origin,pred):\n",
    "  rmsle = np.sqrt(mean_squared_log_error(origin+1, pred+1))\n",
    "  return rmsle"
   ]
  },
  {
   "cell_type": "code",
   "execution_count": null,
   "metadata": {
    "id": "fUFBKacpX4dK"
   },
   "outputs": [],
   "source": [
    "def minmax_scalar(X):\n",
    "  idx = X.index\n",
    "  col = X.columns\n",
    "\n",
    "  scalar = MinMaxScaler()\n",
    "  scaled_X = pd.DataFrame(scalar.fit_transform(X))\n",
    "  scaled_X.index = idx\n",
    "  scaled_X.columns = col\n",
    "\n",
    "  return scaled_X"
   ]
  },
  {
   "cell_type": "code",
   "execution_count": null,
   "metadata": {
    "id": "dpx6YcE3VVXQ"
   },
   "outputs": [],
   "source": [
    "def split_xy(dataset, time_steps, y_column):\n",
    "\n",
    "  x, y = list(), list()\n",
    "  for i in range(len(dataset)):\n",
    "    x_end_number = i + time_steps\n",
    "    y_end_number = x_end_number + y_column\n",
    "\n",
    "    if y_end_number > len(dataset):\n",
    "      break\n",
    "    tmp_x = np.array(dataset)[i:x_end_number, :]\n",
    "    tmp_y = np.array(dataset)[x_end_number:y_end_number, -1]\n",
    "    x.append(tmp_x)\n",
    "    y.append(tmp_y)\n",
    "  return np.array(x), np.asarray(y)"
   ]
  },
  {
   "cell_type": "code",
   "execution_count": null,
   "metadata": {
    "id": "lbxtFm3Bybdw"
   },
   "outputs": [],
   "source": [
    "def build_data(data,dong,cat):\n",
    "\n",
    "  X = data.query('HDONG_NM==@dong').reset_index(drop=True)\n",
    "  \n",
    "  if cat == \"식사\":\n",
    "    eat = gs_eat.query('HDONG_NM==@dong').reset_index(drop=True)\n",
    "    #X['self_m7'] = eat['GS_식사'].shift(7)\n",
    "    X['y'] = eat['GS_식사']\n",
    "  elif cat == \"간식\":\n",
    "    snack = gs_snack.query('HDONG_NM==@dong').reset_index(drop=True)\n",
    "    #X['self_m7'] = snack['GS_간식'].shift(7)\n",
    "    X['y'] = snack['GS_간식']\n",
    "  elif cat == \"마실거리\":\n",
    "    drink = gs_drink.query('HDONG_NM==@dong').reset_index(drop=True)\n",
    "    #X['self_m7'] = drink['GS_마실거리'].shift(7)\n",
    "    X['y'] = drink['GS_마실거리']\n",
    "  \n",
    "  X.index = X['STD_YMD']\n",
    "  del X['STD_YMD'],X['HDONG_NM']\n",
    "\n",
    "  return X"
   ]
  },
  {
   "cell_type": "code",
   "execution_count": null,
   "metadata": {
    "id": "Z8noxuy1WQ5R"
   },
   "outputs": [],
   "source": [
    "def data_pipeline(data, dong, cat, time_steps, y_columns):\n",
    "  data = build_data(data,dong,cat)\n",
    "  \n",
    "  #y = data['y']\n",
    "  #del data['y']\n",
    "  min = data['y'].min()\n",
    "  max = data['y'].max()\n",
    "\n",
    "  X = minmax_scalar(data)\n",
    "  #Xy = pd.concat([X,y],axis=1)\n",
    "  Xy = X.dropna()\n",
    "  \n",
    "  X,y = split_xy(Xy,time_steps,y_columns)\n",
    "\n",
    "  X_train, y_train = X[:-7],y[:-7]\n",
    "  X_test, y_test = X[-7:],y[-7:]\n",
    "\n",
    "  X_test=X_test.reshape(-1,time_steps,X_train.shape[2])\n",
    "  y_test=y_test.reshape(-1,y_columns)\n",
    "\n",
    "\n",
    "  return X_train,y_train,X_test,y_test,min,max"
   ]
  },
  {
   "cell_type": "code",
   "execution_count": null,
   "metadata": {
    "id": "PB7fwn21fG1s"
   },
   "outputs": [],
   "source": [
    "# alpha,beta layer output 받아오는 함수\n",
    "def get_model_parameters(model):\n",
    "    class ModelParameters:\n",
    "        def __init__(self):\n",
    "            self.output_weights = None     \n",
    "            self.bias = None\n",
    "\n",
    "    params = ModelParameters()\n",
    "    params.output_weights, params.bias = model.get_layer(name='time_distributed_out').get_weights()\n",
    "\n",
    "    return params"
   ]
  },
  {
   "cell_type": "markdown",
   "metadata": {
    "id": "X-rHCH-WTDmB"
   },
   "source": [
    "# **3. 최종모델**"
   ]
  },
  {
   "cell_type": "code",
   "execution_count": null,
   "metadata": {
    "id": "ZbP0otC3r6DY"
   },
   "outputs": [],
   "source": [
    "def retain(data,dong,cat,timesteps,y_columns):\n",
    "  X_train,y_train,X_test,y_test,min,max = data_pipeline(data,dong,cat,timesteps,y_columns)\n",
    "  \n",
    "  def reshape(data):\n",
    "    return K.reshape(x=data, shape=(-1, 1,7))\n",
    "\n",
    "  input = L.Input(shape = (timesteps, X_train.shape[2]), name='input')\n",
    "\n",
    "  alpha = L.Bidirectional(L.LSTM(X_train.shape[2],\n",
    "                                  return_sequences=True, implementation=2),\n",
    "                                  name='alpha')\n",
    "  beta = L.Bidirectional(L.LSTM(X_train.shape[2],\n",
    "                                  return_sequences=True, implementation=2),\n",
    "                                  name='beta')\n",
    "\n",
    "  alpha_dense = L.Dense(1)\n",
    "  beta_dense = L.Dense(X_train.shape[2])\n",
    "\n",
    "  #Compute alpha, visit attention\n",
    "  alpha_out = alpha(input)\n",
    "  alpha_out = L.TimeDistributed(alpha_dense, name='alpha_dense_0')(alpha_out)\n",
    "  alpha_out = L.Softmax(axis=1,name='softmax_1')(alpha_out)\n",
    "\n",
    "  #Compute beta, codes attention\n",
    "  beta_out = beta(input)\n",
    "  beta_out = L.TimeDistributed(beta_dense)(beta_out)\n",
    "  beta_out = L.Activation('tanh',name='beta_dense_0')(beta_out)\n",
    "  #Compute context vector based on attentions and embeddings\n",
    "\n",
    "  c_t = L.Multiply()([alpha_out, beta_out, input])\n",
    "  c_t = L.Lambda(lambda x: K.sum(x, axis=1))(c_t)\n",
    "  #Reshape to 3d vector for consistency between Many to Many and Many to One implementations\n",
    "  contexts = L.Lambda(reshape)(c_t)\n",
    "\n",
    "  #Make a prediction\n",
    "  contexts = L.Dropout(0.1)(contexts)\n",
    "  output_layer = L.Dense(1, name='dOut', activation = 'linear') \n",
    "\n",
    "  #TimeDistributed is used for consistency\n",
    "  # between Many to Many and Many to One implementations\n",
    "  output = L.TimeDistributed(output_layer, name='time_distributed_out')(contexts)\n",
    "  #Define the model with appropriate inputs\n",
    "  model = Model(inputs=input, outputs=[output])\n",
    "  model.compile(optimizer='adam', loss='mean_squared_error', sample_weight_mode=\"temporal\",metrics=['mse', 'mae', 'mape'])\n",
    "\n",
    "  early_stopping = EarlyStopping(monitor='val_loss', patience=150, mode='min',restore_best_weights=True)\n",
    "\n",
    "  #모델 저장 : 학습된 모델 개별 저장함. callbacks에 modelsaver 변수 추가시 저장가능\n",
    "  #modelsaver = ModelCheckpoint(\"./gdrive/My Drive/빅콘 대상팀/분석 code/RETAIN/models_weather_shifting/{}_{}_retain.hdf5\".format(dong,cat),\n",
    "  #                            monitor = 'val_loss',mode = 'min',verbose=0,save_best_only=True)\n",
    "\n",
    "  model.fit(X_train, y_train, epochs=5000, batch_size=32, verbose=0, callbacks=[early_stopping],validation_data = (X_test,y_test))\n",
    "  \n",
    "  y_pred = model.predict(X_test, batch_size=1)  \n",
    "  y_test = y_test.reshape(-1,1) \n",
    "  y_pred =y_pred.reshape(-1,1) \n",
    "\n",
    "  y_train_pred = model.predict(X_train, batch_size=1)\n",
    "  y_train_pred = y_train_pred.reshape(-1,1)\n",
    "  y_train_test = y_train.reshape(-1,1)\n",
    "\n",
    "  rmsle = RMSLE_fun(np.array(y_test),np.array(y_pred))\n",
    "  mse = mean_squared_error(np.array(y_test),np.array(y_pred))\n",
    "  rmse = np.sqrt(mse)\n",
    "\n",
    "\n",
    "  return model, mse, rmse, rmsle#, model_with_attention, W"
   ]
  },
  {
   "cell_type": "code",
   "execution_count": null,
   "metadata": {
    "colab": {
     "base_uri": "https://localhost:8080/",
     "height": 593
    },
    "id": "dAPHnxbKnCrH",
    "outputId": "613d5da6-fcc1-4562-8c8e-7c4b7b8b7e5a"
   },
   "outputs": [
    {
     "name": "stdout",
     "output_type": "stream",
     "text": [
      "동:월계1동, 카테고리:식사, mse:4.9723499995981015 rmse:2.2298766781143082 rmsle:0.07266424240248377\n",
      "동:월계2동, 카테고리:식사, mse:5.195597914885882 rmse:2.2793854248208842 rmsle:0.06463094686828076\n",
      "동:월계3동, 카테고리:식사, mse:2.850596488589339 rmse:1.6883709570439012 rmsle:0.05346456101363269\n",
      "동:공릉2동, 카테고리:식사, mse:1.8837002602952295 rmse:1.3724796028703776 rmsle:0.04496104002196639\n",
      "동:하계1동, 카테고리:식사, mse:3.6668377359040596 rmse:1.9148988839894547 rmsle:0.05880295846008147\n",
      "동:하계2동, 카테고리:식사, mse:19.76270065728765 rmse:4.445525914589594 rmsle:0.08805818687289609\n",
      "동:중계본동, 카테고리:식사, mse:8.928172684198916 rmse:2.988004799895562 rmsle:0.07027335586164703\n",
      "동:중계1동, 카테고리:식사, mse:12.298370903209959 rmse:3.506903321052629 rmsle:0.1044947566344791\n",
      "동:중계4동, 카테고리:식사, mse:6.921445937470105 rmse:2.6308641047135266 rmsle:0.07368282017527247\n",
      "동:상계1동, 카테고리:식사, mse:0.5801182878457597 rmse:0.7616549664026092 rmsle:0.028895695185163196\n",
      "동:상계2동, 카테고리:식사, mse:3.1160776705594992 rmse:1.7652415332071414 rmsle:0.03990199208071177\n",
      "동:상계5동, 카테고리:식사, mse:5.017881141428165 rmse:2.240062753904043 rmsle:0.06367382658285008\n",
      "동:상계9동, 카테고리:식사, mse:6.626272394900426 rmse:2.574154695215582 rmsle:0.08570204938811057\n",
      "동:상계10동, 카테고리:식사, mse:4.400804067916985 rmse:2.0978093497544017 rmsle:0.06795775120404055\n",
      "동:상계3.4동, 카테고리:식사, mse:18.993734681938964 rmse:4.35818020301352 rmsle:0.09854685945196696\n",
      "동:상계6.7동, 카테고리:식사, mse:2.7031667381348847 rmse:1.6441309978632739 rmsle:0.045097340422671064\n",
      "동:중계2.3동, 카테고리:식사, mse:7.8978403459994 rmse:2.8103096530452656 rmsle:0.05271420996075709\n",
      "동:공릉1동, 카테고리:식사, mse:0.4711449027532382 rmse:0.686399958299269 rmsle:0.026527970811204227\n",
      "동:소공동, 카테고리:식사, mse:7.532091287780125 rmse:2.7444655741656017 rmsle:0.0989214196208323\n",
      "동:회현동, 카테고리:식사, mse:7.2052059887084665 rmse:2.6842514764284786 rmsle:0.09112382654375231\n",
      "동:명동, 카테고리:식사, mse:3.941154415912731 rmse:1.985234095997933 rmsle:0.07456539190368344\n",
      "동:필동, 카테고리:식사, mse:8.800840149451762 rmse:2.9666209986197702 rmsle:0.1001178695065554\n",
      "동:장충동, 카테고리:식사, mse:1.3680052151035227 rmse:1.169617550784667 rmsle:0.04931751561078816\n",
      "동:광희동, 카테고리:식사, mse:2.2175051522819667 rmse:1.4891289911495131 rmsle:0.05802050960248574\n",
      "동:을지로동, 카테고리:식사, mse:7.347936616137608 rmse:2.7107077703318754 rmsle:0.09020453163437618\n",
      "동:신당5동, 카테고리:식사, mse:3.270240838071792 rmse:1.8083807226554345 rmsle:0.06779913245314946\n",
      "동:황학동, 카테고리:식사, mse:1.5153502210906409 rmse:1.2309956218811833 rmsle:0.03460893262268458\n",
      "동:중림동, 카테고리:식사, mse:5.882702303270518 rmse:2.4254282721347415 rmsle:0.05190959120511523\n",
      "동:신당동, 카테고리:식사, mse:43.49284792518129 rmse:6.594910759455452 rmsle:0.11888946101688863\n",
      "동:다산동, 카테고리:식사, mse:0.4503557229193145 rmse:0.6710854810821901 rmsle:0.021464016278597012\n",
      "동:약수동, 카테고리:식사, mse:1.8442090532565223 rmse:1.3580165879901918 rmsle:0.03380604276311134\n",
      "동:청구동, 카테고리:식사, mse:16.174089811411296 rmse:4.021702352413875 rmsle:0.09902001816490544\n",
      "동:동화동, 카테고리:식사, mse:12.392670844319992 rmse:3.5203225483355913 rmsle:0.14690554946482917\n"
     ]
    }
   ],
   "source": [
    "warnings.filterwarnings(\"ignore\")\n",
    "\n",
    "dong = list(gu.query('HDONG_GU ==\"서울 노원구\"').HDONG_NM.unique())+list(gu.query('HDONG_GU ==\"서울 중구\"').HDONG_NM.unique())\n",
    "cat = ['식사'] #원하는 카테고리 설정\n",
    "\n",
    "RMSLE_RETAIN=[]\n",
    "MSE_RETAIN=[]\n",
    "RMSE_RETAIN=[]\n",
    "for j,c in enumerate(cat):\n",
    "  for i,d in enumerate(dong):\n",
    "    if d ==\"상계8동\":\n",
    "      continue\n",
    "    #print('=============================result of {}============================'.format(d))\n",
    "    model,mse,rmse,rmsle=retain(final_data4,d,c,7,1)\n",
    "    print(\"동:{}, 카테고리:{}, mse:{} rmse:{} rmsle:{}\".format(d,c,mse,rmse,rmsle))\n",
    "    RMSLE_RETAIN.append(rmsle)\n",
    "    RMSE_RETAIN.append(rmse)\n",
    "    MSE_RETAIN.append(mse)\n",
    "    \n",
    "#아래 결과는 min - max scaling을 푼채로 출력한 결과로, 모델 확인을 위한 과정     "
   ]
  },
  {
   "cell_type": "code",
   "execution_count": null,
   "metadata": {
    "colab": {
     "base_uri": "https://localhost:8080/",
     "height": 34
    },
    "id": "t56dNrYozXpf",
    "outputId": "6089024d-48af-485f-f867-6f1c38cdea23"
   },
   "outputs": [
    {
     "data": {
      "text/plain": [
       "99"
      ]
     },
     "execution_count": 181,
     "metadata": {
      "tags": []
     },
     "output_type": "execute_result"
    }
   ],
   "source": [
    "len(MSE_RETAIN)"
   ]
  },
  {
   "cell_type": "code",
   "execution_count": null,
   "metadata": {
    "id": "0YBvVyBhnL68"
   },
   "outputs": [],
   "source": [
    "dong.remove('상계8동')\n",
    "n=len(dong)\n",
    "result_retain = pd.DataFrame({'dong':dong,\n",
    "                       'mse_eat':MSE_RETAIN[:n],\n",
    "                       'mse_snack':MSE_RETAIN[n:len(MSE_RETAIN)-n],\n",
    "                       'mse_drink':MSE_RETAIN[len(MSE_RETAIN)-n:],\n",
    "                       'rmse_eat':RMSE_RETAIN[:n],\n",
    "                       'rmse_snack':RMSE_RETAIN[n:len(RMSE_RETAIN)-n],\n",
    "                       'rmse_drink':RMSE_RETAIN[len(RMSE_RETAIN)-n:],\n",
    "                       'rmsle_eat':RMSLE_RETAIN[:n],\n",
    "                       'rmsle_snack':RMSLE_RETAIN[n:len(RMSLE_RETAIN)-n],\n",
    "                       'rmsle_drink':RMSLE_RETAIN[len(RMSLE_RETAIN)-n:]}).reset_index(drop=True)\n"
   ]
  }
 ],
 "metadata": {
  "accelerator": "GPU",
  "colab": {
   "collapsed_sections": [],
   "name": "[모델링4] RETAIN",
   "provenance": [],
   "toc_visible": true
  },
  "kernelspec": {
   "display_name": "Python 3",
   "language": "python",
   "name": "python3"
  },
  "language_info": {
   "codemirror_mode": {
    "name": "ipython",
    "version": 3
   },
   "file_extension": ".py",
   "mimetype": "text/x-python",
   "name": "python",
   "nbconvert_exporter": "python",
   "pygments_lexer": "ipython3",
   "version": "3.7.3"
  }
 },
 "nbformat": 4,
 "nbformat_minor": 1
}
